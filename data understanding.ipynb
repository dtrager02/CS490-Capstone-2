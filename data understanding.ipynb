{
 "cells": [
  {
   "cell_type": "code",
   "execution_count": 2,
   "metadata": {},
   "outputs": [],
   "source": [
    "import pandas as pd\n",
    "import matplotlib.pyplot as plt\n",
    "import seaborn as sns\n",
    "import numpy as np\n",
    "\n",
    "aisles = pd.read_csv(\"aisles.csv\")\n",
    "departments = pd.read_csv(\"departments.csv\")\n",
    "\n",
    "order_products_train = pd.concat([pd.read_csv(\"order_products__train.csv\"),pd.read_csv('order_products__prior.csv')],axis=0)\n",
    "orders = pd.read_csv(\"orders.csv\")\n",
    "products = pd.read_csv(\"products.csv\")"
   ]
  },
  {
   "cell_type": "code",
   "execution_count": null,
   "metadata": {},
   "outputs": [],
   "source": [
    "departments.head()"
   ]
  },
  {
   "cell_type": "code",
   "execution_count": null,
   "metadata": {},
   "outputs": [],
   "source": [
    "aisles.head()"
   ]
  },
  {
   "cell_type": "code",
   "execution_count": 10,
   "metadata": {},
   "outputs": [
    {
     "data": {
      "text/html": [
       "<div>\n",
       "<style scoped>\n",
       "    .dataframe tbody tr th:only-of-type {\n",
       "        vertical-align: middle;\n",
       "    }\n",
       "\n",
       "    .dataframe tbody tr th {\n",
       "        vertical-align: top;\n",
       "    }\n",
       "\n",
       "    .dataframe thead th {\n",
       "        text-align: right;\n",
       "    }\n",
       "</style>\n",
       "<table border=\"1\" class=\"dataframe\">\n",
       "  <thead>\n",
       "    <tr style=\"text-align: right;\">\n",
       "      <th></th>\n",
       "      <th>product_id</th>\n",
       "      <th>product_name</th>\n",
       "      <th>aisle_id</th>\n",
       "      <th>department_id</th>\n",
       "    </tr>\n",
       "  </thead>\n",
       "  <tbody>\n",
       "    <tr>\n",
       "      <th>0</th>\n",
       "      <td>1</td>\n",
       "      <td>Chocolate Sandwich Cookies</td>\n",
       "      <td>61</td>\n",
       "      <td>19</td>\n",
       "    </tr>\n",
       "    <tr>\n",
       "      <th>1</th>\n",
       "      <td>2</td>\n",
       "      <td>All-Seasons Salt</td>\n",
       "      <td>104</td>\n",
       "      <td>13</td>\n",
       "    </tr>\n",
       "    <tr>\n",
       "      <th>2</th>\n",
       "      <td>3</td>\n",
       "      <td>Robust Golden Unsweetened Oolong Tea</td>\n",
       "      <td>94</td>\n",
       "      <td>7</td>\n",
       "    </tr>\n",
       "    <tr>\n",
       "      <th>3</th>\n",
       "      <td>4</td>\n",
       "      <td>Smart Ones Classic Favorites Mini Rigatoni Wit...</td>\n",
       "      <td>38</td>\n",
       "      <td>1</td>\n",
       "    </tr>\n",
       "    <tr>\n",
       "      <th>4</th>\n",
       "      <td>5</td>\n",
       "      <td>Green Chile Anytime Sauce</td>\n",
       "      <td>5</td>\n",
       "      <td>13</td>\n",
       "    </tr>\n",
       "  </tbody>\n",
       "</table>\n",
       "</div>"
      ],
      "text/plain": [
       "   product_id                                       product_name  aisle_id  \\\n",
       "0           1                         Chocolate Sandwich Cookies        61   \n",
       "1           2                                   All-Seasons Salt       104   \n",
       "2           3               Robust Golden Unsweetened Oolong Tea        94   \n",
       "3           4  Smart Ones Classic Favorites Mini Rigatoni Wit...        38   \n",
       "4           5                          Green Chile Anytime Sauce         5   \n",
       "\n",
       "   department_id  \n",
       "0             19  \n",
       "1             13  \n",
       "2              7  \n",
       "3              1  \n",
       "4             13  "
      ]
     },
     "execution_count": 10,
     "metadata": {},
     "output_type": "execute_result"
    }
   ],
   "source": [
    "products.head()"
   ]
  },
  {
   "cell_type": "code",
   "execution_count": 12,
   "metadata": {},
   "outputs": [
    {
     "data": {
      "text/html": [
       "<div>\n",
       "<style scoped>\n",
       "    .dataframe tbody tr th:only-of-type {\n",
       "        vertical-align: middle;\n",
       "    }\n",
       "\n",
       "    .dataframe tbody tr th {\n",
       "        vertical-align: top;\n",
       "    }\n",
       "\n",
       "    .dataframe thead th {\n",
       "        text-align: right;\n",
       "    }\n",
       "</style>\n",
       "<table border=\"1\" class=\"dataframe\">\n",
       "  <thead>\n",
       "    <tr style=\"text-align: right;\">\n",
       "      <th></th>\n",
       "      <th>order_id</th>\n",
       "      <th>user_id</th>\n",
       "      <th>eval_set</th>\n",
       "      <th>order_number</th>\n",
       "      <th>order_dow</th>\n",
       "      <th>order_hour_of_day</th>\n",
       "      <th>days_since_prior_order</th>\n",
       "    </tr>\n",
       "  </thead>\n",
       "  <tbody>\n",
       "    <tr>\n",
       "      <th>0</th>\n",
       "      <td>2539329</td>\n",
       "      <td>1</td>\n",
       "      <td>prior</td>\n",
       "      <td>1</td>\n",
       "      <td>2</td>\n",
       "      <td>8</td>\n",
       "      <td>NaN</td>\n",
       "    </tr>\n",
       "    <tr>\n",
       "      <th>1</th>\n",
       "      <td>2398795</td>\n",
       "      <td>1</td>\n",
       "      <td>prior</td>\n",
       "      <td>2</td>\n",
       "      <td>3</td>\n",
       "      <td>7</td>\n",
       "      <td>15.0</td>\n",
       "    </tr>\n",
       "    <tr>\n",
       "      <th>2</th>\n",
       "      <td>473747</td>\n",
       "      <td>1</td>\n",
       "      <td>prior</td>\n",
       "      <td>3</td>\n",
       "      <td>3</td>\n",
       "      <td>12</td>\n",
       "      <td>21.0</td>\n",
       "    </tr>\n",
       "    <tr>\n",
       "      <th>3</th>\n",
       "      <td>2254736</td>\n",
       "      <td>1</td>\n",
       "      <td>prior</td>\n",
       "      <td>4</td>\n",
       "      <td>4</td>\n",
       "      <td>7</td>\n",
       "      <td>29.0</td>\n",
       "    </tr>\n",
       "    <tr>\n",
       "      <th>4</th>\n",
       "      <td>431534</td>\n",
       "      <td>1</td>\n",
       "      <td>prior</td>\n",
       "      <td>5</td>\n",
       "      <td>4</td>\n",
       "      <td>15</td>\n",
       "      <td>28.0</td>\n",
       "    </tr>\n",
       "  </tbody>\n",
       "</table>\n",
       "</div>"
      ],
      "text/plain": [
       "   order_id  user_id eval_set  order_number  order_dow  order_hour_of_day  \\\n",
       "0   2539329        1    prior             1          2                  8   \n",
       "1   2398795        1    prior             2          3                  7   \n",
       "2    473747        1    prior             3          3                 12   \n",
       "3   2254736        1    prior             4          4                  7   \n",
       "4    431534        1    prior             5          4                 15   \n",
       "\n",
       "   days_since_prior_order  \n",
       "0                     NaN  \n",
       "1                    15.0  \n",
       "2                    21.0  \n",
       "3                    29.0  \n",
       "4                    28.0  "
      ]
     },
     "execution_count": 12,
     "metadata": {},
     "output_type": "execute_result"
    }
   ],
   "source": [
    "orders.head()"
   ]
  },
  {
   "cell_type": "code",
   "execution_count": 11,
   "metadata": {},
   "outputs": [
    {
     "data": {
      "text/html": [
       "<div>\n",
       "<style scoped>\n",
       "    .dataframe tbody tr th:only-of-type {\n",
       "        vertical-align: middle;\n",
       "    }\n",
       "\n",
       "    .dataframe tbody tr th {\n",
       "        vertical-align: top;\n",
       "    }\n",
       "\n",
       "    .dataframe thead th {\n",
       "        text-align: right;\n",
       "    }\n",
       "</style>\n",
       "<table border=\"1\" class=\"dataframe\">\n",
       "  <thead>\n",
       "    <tr style=\"text-align: right;\">\n",
       "      <th></th>\n",
       "      <th>order_id</th>\n",
       "      <th>product_id</th>\n",
       "      <th>add_to_cart_order</th>\n",
       "      <th>reordered</th>\n",
       "    </tr>\n",
       "  </thead>\n",
       "  <tbody>\n",
       "    <tr>\n",
       "      <th>0</th>\n",
       "      <td>1</td>\n",
       "      <td>49302</td>\n",
       "      <td>1</td>\n",
       "      <td>1</td>\n",
       "    </tr>\n",
       "    <tr>\n",
       "      <th>1</th>\n",
       "      <td>1</td>\n",
       "      <td>11109</td>\n",
       "      <td>2</td>\n",
       "      <td>1</td>\n",
       "    </tr>\n",
       "    <tr>\n",
       "      <th>2</th>\n",
       "      <td>1</td>\n",
       "      <td>10246</td>\n",
       "      <td>3</td>\n",
       "      <td>0</td>\n",
       "    </tr>\n",
       "    <tr>\n",
       "      <th>3</th>\n",
       "      <td>1</td>\n",
       "      <td>49683</td>\n",
       "      <td>4</td>\n",
       "      <td>0</td>\n",
       "    </tr>\n",
       "    <tr>\n",
       "      <th>4</th>\n",
       "      <td>1</td>\n",
       "      <td>43633</td>\n",
       "      <td>5</td>\n",
       "      <td>1</td>\n",
       "    </tr>\n",
       "  </tbody>\n",
       "</table>\n",
       "</div>"
      ],
      "text/plain": [
       "   order_id  product_id  add_to_cart_order  reordered\n",
       "0         1       49302                  1          1\n",
       "1         1       11109                  2          1\n",
       "2         1       10246                  3          0\n",
       "3         1       49683                  4          0\n",
       "4         1       43633                  5          1"
      ]
     },
     "execution_count": 11,
     "metadata": {},
     "output_type": "execute_result"
    }
   ],
   "source": [
    "order_products_train.head()"
   ]
  },
  {
   "cell_type": "markdown",
   "metadata": {},
   "source": [
    "products.aisle_id > aisles.aisle_id\n",
    "\n",
    "products.department_id > departments.department_id\n",
    "\n",
    "order_products_train.order_id > orders.order_id"
   ]
  },
  {
   "cell_type": "code",
   "execution_count": 3,
   "metadata": {},
   "outputs": [
    {
     "data": {
      "text/plain": [
       "Index(['department_id', 'department', 'aisle_id', 'aisle', 'product_id',\n",
       "       'product_name', 'order_id', 'add_to_cart_order', 'reordered', 'user_id',\n",
       "       'eval_set', 'order_number', 'order_dow', 'order_hour_of_day',\n",
       "       'days_since_prior_order'],\n",
       "      dtype='object')"
      ]
     },
     "execution_count": 3,
     "metadata": {},
     "output_type": "execute_result"
    }
   ],
   "source": [
    "combined = pd.merge(order_products_train,orders,how=\"inner\",left_on=\"order_id\",right_on=\"order_id\")\n",
    "combined = pd.merge(products,combined,how=\"inner\",left_on=\"product_id\",right_on=\"product_id\")\n",
    "combined = pd.merge(aisles,combined,how=\"inner\",left_on=\"aisle_id\",right_on=\"aisle_id\")\n",
    "combined = pd.merge(departments,combined,how=\"inner\",left_on=\"department_id\",right_on=\"department_id\")\n",
    "combined.columns"
   ]
  },
  {
   "cell_type": "code",
   "execution_count": 4,
   "metadata": {},
   "outputs": [
    {
     "data": {
      "text/plain": [
       "((33819106, 15), (33819106, 4))"
      ]
     },
     "execution_count": 4,
     "metadata": {},
     "output_type": "execute_result"
    }
   ],
   "source": [
    "combined.shape,order_products_train.shape"
   ]
  },
  {
   "cell_type": "code",
   "execution_count": null,
   "metadata": {},
   "outputs": [],
   "source": [
    "#should be 1\n",
    "combined.groupby(['order_id','product_id']).count().max()"
   ]
  },
  {
   "cell_type": "code",
   "execution_count": null,
   "metadata": {},
   "outputs": [],
   "source": [
    "missing = combined.isnull().sum().reset_index()\n",
    "missing['Missing %'] = missing.iloc[:,1]/combined.shape[0]*100\n",
    "missing.columns = ['Attribute Name','Missing Count','Missing %']\n",
    "missing"
   ]
  },
  {
   "cell_type": "code",
   "execution_count": null,
   "metadata": {},
   "outputs": [],
   "source": [
    "pd.options.display.float_format = '{:.2f}'.format\n",
    "combined.describe()"
   ]
  },
  {
   "cell_type": "code",
   "execution_count": null,
   "metadata": {},
   "outputs": [],
   "source": [
    "#should be equal\n",
    "print(combined.groupby(['order_id'])['product_id'].count().max())\n",
    "print(combined['add_to_cart_order'].max())"
   ]
  },
  {
   "cell_type": "code",
   "execution_count": null,
   "metadata": {},
   "outputs": [],
   "source": [
    "combined[combined['reordered'] ==1].groupby(['user_id'])['reordered'].count().describe()\n"
   ]
  },
  {
   "cell_type": "code",
   "execution_count": 5,
   "metadata": {},
   "outputs": [
    {
     "data": {
      "text/plain": [
       "count    206209.000000\n",
       "mean        164.004025\n",
       "std         206.014923\n",
       "min           3.000000\n",
       "25%          44.000000\n",
       "50%          90.000000\n",
       "75%         196.000000\n",
       "max        3725.000000\n",
       "Name: reordered, dtype: float64"
      ]
     },
     "execution_count": 5,
     "metadata": {},
     "output_type": "execute_result"
    }
   ],
   "source": [
    "combined.groupby(['user_id'])['reordered'].count().describe()"
   ]
  },
  {
   "cell_type": "code",
   "execution_count": 24,
   "metadata": {},
   "outputs": [
    {
     "data": {
      "text/html": [
       "<div>\n",
       "<style scoped>\n",
       "    .dataframe tbody tr th:only-of-type {\n",
       "        vertical-align: middle;\n",
       "    }\n",
       "\n",
       "    .dataframe tbody tr th {\n",
       "        vertical-align: top;\n",
       "    }\n",
       "\n",
       "    .dataframe thead th {\n",
       "        text-align: right;\n",
       "    }\n",
       "</style>\n",
       "<table border=\"1\" class=\"dataframe\">\n",
       "  <thead>\n",
       "    <tr style=\"text-align: right;\">\n",
       "      <th></th>\n",
       "      <th>department_id</th>\n",
       "      <th>department</th>\n",
       "      <th>aisle_id</th>\n",
       "      <th>aisle</th>\n",
       "      <th>product_id</th>\n",
       "      <th>product_name</th>\n",
       "      <th>order_id</th>\n",
       "      <th>add_to_cart_order</th>\n",
       "      <th>reordered</th>\n",
       "      <th>user_id</th>\n",
       "      <th>eval_set</th>\n",
       "      <th>order_number</th>\n",
       "      <th>order_dow</th>\n",
       "      <th>order_hour_of_day</th>\n",
       "      <th>days_since_prior_order</th>\n",
       "    </tr>\n",
       "  </thead>\n",
       "  <tbody>\n",
       "    <tr>\n",
       "      <th>22718</th>\n",
       "      <td>1</td>\n",
       "      <td>frozen</td>\n",
       "      <td>34</td>\n",
       "      <td>frozen meat seafood</td>\n",
       "      <td>15374</td>\n",
       "      <td>Homestyle Turkey Meatballs</td>\n",
       "      <td>3319463</td>\n",
       "      <td>1</td>\n",
       "      <td>0</td>\n",
       "      <td>27465</td>\n",
       "      <td>prior</td>\n",
       "      <td>1</td>\n",
       "      <td>6</td>\n",
       "      <td>18</td>\n",
       "      <td>NaN</td>\n",
       "    </tr>\n",
       "    <tr>\n",
       "      <th>814638</th>\n",
       "      <td>1</td>\n",
       "      <td>frozen</td>\n",
       "      <td>38</td>\n",
       "      <td>frozen meals</td>\n",
       "      <td>30162</td>\n",
       "      <td>Teriyaki &amp; Pineapple Chicken Meatballs</td>\n",
       "      <td>200620</td>\n",
       "      <td>1</td>\n",
       "      <td>1</td>\n",
       "      <td>27465</td>\n",
       "      <td>prior</td>\n",
       "      <td>3</td>\n",
       "      <td>4</td>\n",
       "      <td>11</td>\n",
       "      <td>18.0</td>\n",
       "    </tr>\n",
       "    <tr>\n",
       "      <th>815072</th>\n",
       "      <td>1</td>\n",
       "      <td>frozen</td>\n",
       "      <td>38</td>\n",
       "      <td>frozen meals</td>\n",
       "      <td>30162</td>\n",
       "      <td>Teriyaki &amp; Pineapple Chicken Meatballs</td>\n",
       "      <td>1054218</td>\n",
       "      <td>1</td>\n",
       "      <td>0</td>\n",
       "      <td>27465</td>\n",
       "      <td>prior</td>\n",
       "      <td>2</td>\n",
       "      <td>0</td>\n",
       "      <td>2</td>\n",
       "      <td>29.0</td>\n",
       "    </tr>\n",
       "  </tbody>\n",
       "</table>\n",
       "</div>"
      ],
      "text/plain": [
       "        department_id department  aisle_id                aisle  product_id  \\\n",
       "22718               1     frozen        34  frozen meat seafood       15374   \n",
       "814638              1     frozen        38         frozen meals       30162   \n",
       "815072              1     frozen        38         frozen meals       30162   \n",
       "\n",
       "                                  product_name  order_id  add_to_cart_order  \\\n",
       "22718               Homestyle Turkey Meatballs   3319463                  1   \n",
       "814638  Teriyaki & Pineapple Chicken Meatballs    200620                  1   \n",
       "815072  Teriyaki & Pineapple Chicken Meatballs   1054218                  1   \n",
       "\n",
       "        reordered  user_id eval_set  order_number  order_dow  \\\n",
       "22718           0    27465    prior             1          6   \n",
       "814638          1    27465    prior             3          4   \n",
       "815072          0    27465    prior             2          0   \n",
       "\n",
       "        order_hour_of_day  days_since_prior_order  \n",
       "22718                  18                     NaN  \n",
       "814638                 11                    18.0  \n",
       "815072                  2                    29.0  "
      ]
     },
     "execution_count": 24,
     "metadata": {},
     "output_type": "execute_result"
    }
   ],
   "source": [
    "combined[combined.user_id == 27465]"
   ]
  },
  {
   "cell_type": "code",
   "execution_count": 22,
   "metadata": {},
   "outputs": [
    {
     "data": {
      "text/html": [
       "<div>\n",
       "<style scoped>\n",
       "    .dataframe tbody tr th:only-of-type {\n",
       "        vertical-align: middle;\n",
       "    }\n",
       "\n",
       "    .dataframe tbody tr th {\n",
       "        vertical-align: top;\n",
       "    }\n",
       "\n",
       "    .dataframe thead th {\n",
       "        text-align: right;\n",
       "    }\n",
       "</style>\n",
       "<table border=\"1\" class=\"dataframe\">\n",
       "  <thead>\n",
       "    <tr style=\"text-align: right;\">\n",
       "      <th></th>\n",
       "      <th>department_id</th>\n",
       "      <th>department</th>\n",
       "      <th>aisle_id</th>\n",
       "      <th>aisle</th>\n",
       "      <th>product_id</th>\n",
       "      <th>product_name</th>\n",
       "      <th>order_id</th>\n",
       "      <th>add_to_cart_order</th>\n",
       "      <th>reordered</th>\n",
       "      <th>user_id</th>\n",
       "      <th>eval_set</th>\n",
       "      <th>order_number</th>\n",
       "      <th>order_dow</th>\n",
       "      <th>order_hour_of_day</th>\n",
       "      <th>days_since_prior_order</th>\n",
       "    </tr>\n",
       "  </thead>\n",
       "  <tbody>\n",
       "    <tr>\n",
       "      <th>22718</th>\n",
       "      <td>1</td>\n",
       "      <td>frozen</td>\n",
       "      <td>34</td>\n",
       "      <td>frozen meat seafood</td>\n",
       "      <td>15374</td>\n",
       "      <td>Homestyle Turkey Meatballs</td>\n",
       "      <td>3319463</td>\n",
       "      <td>1</td>\n",
       "      <td>0</td>\n",
       "      <td>27465</td>\n",
       "      <td>prior</td>\n",
       "      <td>1</td>\n",
       "      <td>6</td>\n",
       "      <td>18</td>\n",
       "      <td>NaN</td>\n",
       "    </tr>\n",
       "    <tr>\n",
       "      <th>582535</th>\n",
       "      <td>1</td>\n",
       "      <td>frozen</td>\n",
       "      <td>37</td>\n",
       "      <td>ice cream ice</td>\n",
       "      <td>48238</td>\n",
       "      <td>Gotta Do Chocolate Ice Cream</td>\n",
       "      <td>817344</td>\n",
       "      <td>1</td>\n",
       "      <td>1</td>\n",
       "      <td>96613</td>\n",
       "      <td>prior</td>\n",
       "      <td>2</td>\n",
       "      <td>1</td>\n",
       "      <td>19</td>\n",
       "      <td>7.0</td>\n",
       "    </tr>\n",
       "    <tr>\n",
       "      <th>582615</th>\n",
       "      <td>1</td>\n",
       "      <td>frozen</td>\n",
       "      <td>37</td>\n",
       "      <td>ice cream ice</td>\n",
       "      <td>48238</td>\n",
       "      <td>Gotta Do Chocolate Ice Cream</td>\n",
       "      <td>1690237</td>\n",
       "      <td>1</td>\n",
       "      <td>0</td>\n",
       "      <td>96613</td>\n",
       "      <td>prior</td>\n",
       "      <td>1</td>\n",
       "      <td>1</td>\n",
       "      <td>16</td>\n",
       "      <td>NaN</td>\n",
       "    </tr>\n",
       "    <tr>\n",
       "      <th>582728</th>\n",
       "      <td>1</td>\n",
       "      <td>frozen</td>\n",
       "      <td>37</td>\n",
       "      <td>ice cream ice</td>\n",
       "      <td>48238</td>\n",
       "      <td>Gotta Do Chocolate Ice Cream</td>\n",
       "      <td>3107558</td>\n",
       "      <td>1</td>\n",
       "      <td>1</td>\n",
       "      <td>96613</td>\n",
       "      <td>prior</td>\n",
       "      <td>3</td>\n",
       "      <td>1</td>\n",
       "      <td>19</td>\n",
       "      <td>0.0</td>\n",
       "    </tr>\n",
       "    <tr>\n",
       "      <th>693510</th>\n",
       "      <td>1</td>\n",
       "      <td>frozen</td>\n",
       "      <td>38</td>\n",
       "      <td>frozen meals</td>\n",
       "      <td>13277</td>\n",
       "      <td>Microwaveable Hamburgers</td>\n",
       "      <td>962851</td>\n",
       "      <td>1</td>\n",
       "      <td>1</td>\n",
       "      <td>142997</td>\n",
       "      <td>prior</td>\n",
       "      <td>2</td>\n",
       "      <td>0</td>\n",
       "      <td>13</td>\n",
       "      <td>8.0</td>\n",
       "    </tr>\n",
       "    <tr>\n",
       "      <th>...</th>\n",
       "      <td>...</td>\n",
       "      <td>...</td>\n",
       "      <td>...</td>\n",
       "      <td>...</td>\n",
       "      <td>...</td>\n",
       "      <td>...</td>\n",
       "      <td>...</td>\n",
       "      <td>...</td>\n",
       "      <td>...</td>\n",
       "      <td>...</td>\n",
       "      <td>...</td>\n",
       "      <td>...</td>\n",
       "      <td>...</td>\n",
       "      <td>...</td>\n",
       "      <td>...</td>\n",
       "    </tr>\n",
       "    <tr>\n",
       "      <th>33122486</th>\n",
       "      <td>20</td>\n",
       "      <td>deli</td>\n",
       "      <td>67</td>\n",
       "      <td>fresh dips tapenades</td>\n",
       "      <td>21986</td>\n",
       "      <td>Artichoke Parmesan Dip</td>\n",
       "      <td>214345</td>\n",
       "      <td>1</td>\n",
       "      <td>0</td>\n",
       "      <td>112788</td>\n",
       "      <td>prior</td>\n",
       "      <td>1</td>\n",
       "      <td>3</td>\n",
       "      <td>9</td>\n",
       "      <td>NaN</td>\n",
       "    </tr>\n",
       "    <tr>\n",
       "      <th>33266062</th>\n",
       "      <td>20</td>\n",
       "      <td>deli</td>\n",
       "      <td>67</td>\n",
       "      <td>fresh dips tapenades</td>\n",
       "      <td>38883</td>\n",
       "      <td>Artichoke And Jalapeño Dip &amp; Spread</td>\n",
       "      <td>1076322</td>\n",
       "      <td>1</td>\n",
       "      <td>0</td>\n",
       "      <td>112788</td>\n",
       "      <td>prior</td>\n",
       "      <td>2</td>\n",
       "      <td>4</td>\n",
       "      <td>8</td>\n",
       "      <td>30.0</td>\n",
       "    </tr>\n",
       "    <tr>\n",
       "      <th>33266503</th>\n",
       "      <td>20</td>\n",
       "      <td>deli</td>\n",
       "      <td>67</td>\n",
       "      <td>fresh dips tapenades</td>\n",
       "      <td>38883</td>\n",
       "      <td>Artichoke And Jalapeño Dip &amp; Spread</td>\n",
       "      <td>3059171</td>\n",
       "      <td>1</td>\n",
       "      <td>1</td>\n",
       "      <td>112788</td>\n",
       "      <td>prior</td>\n",
       "      <td>3</td>\n",
       "      <td>3</td>\n",
       "      <td>14</td>\n",
       "      <td>27.0</td>\n",
       "    </tr>\n",
       "    <tr>\n",
       "      <th>33526575</th>\n",
       "      <td>20</td>\n",
       "      <td>deli</td>\n",
       "      <td>96</td>\n",
       "      <td>lunch meat</td>\n",
       "      <td>25017</td>\n",
       "      <td>Organic Turkey Breast</td>\n",
       "      <td>467115</td>\n",
       "      <td>1</td>\n",
       "      <td>0</td>\n",
       "      <td>188692</td>\n",
       "      <td>prior</td>\n",
       "      <td>1</td>\n",
       "      <td>1</td>\n",
       "      <td>8</td>\n",
       "      <td>NaN</td>\n",
       "    </tr>\n",
       "    <tr>\n",
       "      <th>33756957</th>\n",
       "      <td>21</td>\n",
       "      <td>missing</td>\n",
       "      <td>100</td>\n",
       "      <td>missing</td>\n",
       "      <td>11204</td>\n",
       "      <td>Pull Up's Boy's Nighttime Training Pants Size ...</td>\n",
       "      <td>3126368</td>\n",
       "      <td>1</td>\n",
       "      <td>0</td>\n",
       "      <td>167553</td>\n",
       "      <td>prior</td>\n",
       "      <td>3</td>\n",
       "      <td>1</td>\n",
       "      <td>16</td>\n",
       "      <td>30.0</td>\n",
       "    </tr>\n",
       "  </tbody>\n",
       "</table>\n",
       "<p>297 rows × 15 columns</p>\n",
       "</div>"
      ],
      "text/plain": [
       "          department_id department  aisle_id                 aisle  \\\n",
       "22718                 1     frozen        34   frozen meat seafood   \n",
       "582535                1     frozen        37         ice cream ice   \n",
       "582615                1     frozen        37         ice cream ice   \n",
       "582728                1     frozen        37         ice cream ice   \n",
       "693510                1     frozen        38          frozen meals   \n",
       "...                 ...        ...       ...                   ...   \n",
       "33122486             20       deli        67  fresh dips tapenades   \n",
       "33266062             20       deli        67  fresh dips tapenades   \n",
       "33266503             20       deli        67  fresh dips tapenades   \n",
       "33526575             20       deli        96            lunch meat   \n",
       "33756957             21    missing       100               missing   \n",
       "\n",
       "          product_id                                       product_name  \\\n",
       "22718          15374                         Homestyle Turkey Meatballs   \n",
       "582535         48238                       Gotta Do Chocolate Ice Cream   \n",
       "582615         48238                       Gotta Do Chocolate Ice Cream   \n",
       "582728         48238                       Gotta Do Chocolate Ice Cream   \n",
       "693510         13277                           Microwaveable Hamburgers   \n",
       "...              ...                                                ...   \n",
       "33122486       21986                             Artichoke Parmesan Dip   \n",
       "33266062       38883                Artichoke And Jalapeño Dip & Spread   \n",
       "33266503       38883                Artichoke And Jalapeño Dip & Spread   \n",
       "33526575       25017                              Organic Turkey Breast   \n",
       "33756957       11204  Pull Up's Boy's Nighttime Training Pants Size ...   \n",
       "\n",
       "          order_id  add_to_cart_order  reordered  user_id eval_set  \\\n",
       "22718      3319463                  1          0    27465    prior   \n",
       "582535      817344                  1          1    96613    prior   \n",
       "582615     1690237                  1          0    96613    prior   \n",
       "582728     3107558                  1          1    96613    prior   \n",
       "693510      962851                  1          1   142997    prior   \n",
       "...            ...                ...        ...      ...      ...   \n",
       "33122486    214345                  1          0   112788    prior   \n",
       "33266062   1076322                  1          0   112788    prior   \n",
       "33266503   3059171                  1          1   112788    prior   \n",
       "33526575    467115                  1          0   188692    prior   \n",
       "33756957   3126368                  1          0   167553    prior   \n",
       "\n",
       "          order_number  order_dow  order_hour_of_day  days_since_prior_order  \n",
       "22718                1          6                 18                     NaN  \n",
       "582535               2          1                 19                     7.0  \n",
       "582615               1          1                 16                     NaN  \n",
       "582728               3          1                 19                     0.0  \n",
       "693510               2          0                 13                     8.0  \n",
       "...                ...        ...                ...                     ...  \n",
       "33122486             1          3                  9                     NaN  \n",
       "33266062             2          4                  8                    30.0  \n",
       "33266503             3          3                 14                    27.0  \n",
       "33526575             1          1                  8                     NaN  \n",
       "33756957             3          1                 16                    30.0  \n",
       "\n",
       "[297 rows x 15 columns]"
      ]
     },
     "execution_count": 22,
     "metadata": {},
     "output_type": "execute_result"
    }
   ],
   "source": [
    "c = combined.user_id.value_counts()\n",
    "combined[combined.user_id.isin(c.index[c.eq(3)])]"
   ]
  },
  {
   "cell_type": "code",
   "execution_count": 32,
   "metadata": {},
   "outputs": [
    {
     "data": {
      "text/plain": [
       "department_id                                            21\n",
       "department                                           snacks\n",
       "aisle_id                                                130\n",
       "aisle                                                yogurt\n",
       "product_id                                            49451\n",
       "product_name              Yogurt, Strained Low-Fat, Coconut\n",
       "order_id                                            3408792\n",
       "add_to_cart_order                                        98\n",
       "reordered                                                 1\n",
       "user_id                                              201268\n",
       "eval_set                                              prior\n",
       "order_number                                             99\n",
       "order_dow                                                 6\n",
       "order_hour_of_day                                        23\n",
       "days_since_prior_order                                 11.0\n",
       "dtype: object"
      ]
     },
     "execution_count": 32,
     "metadata": {},
     "output_type": "execute_result"
    }
   ],
   "source": [
    "combined[combined.user_id.isin(c.index[c.eq(3725)])].max()"
   ]
  },
  {
   "cell_type": "code",
   "execution_count": 13,
   "metadata": {},
   "outputs": [
    {
     "data": {
      "text/plain": [
       "206209"
      ]
     },
     "execution_count": 13,
     "metadata": {},
     "output_type": "execute_result"
    }
   ],
   "source": [
    "len(combined.user_id.unique())"
   ]
  },
  {
   "cell_type": "code",
   "execution_count": null,
   "metadata": {},
   "outputs": [],
   "source": [
    "import matplotlib.pyplot as plt\n",
    "plt.hist(combined['order_hour_of_day'],bins=24)\n",
    "plt.ylabel(\"Count\")\n",
    "plt.xlabel(\"Hour of day\")\n",
    "plt.show()"
   ]
  },
  {
   "cell_type": "code",
   "execution_count": null,
   "metadata": {},
   "outputs": [],
   "source": [
    "import matplotlib.pyplot as plt\n",
    "plt.hist(combined['order_dow'].astype(int),bins=7)\n",
    "plt.ylabel(\"Count\")\n",
    "plt.xlabel(\"Day of week\")\n",
    "plt.show()"
   ]
  },
  {
   "cell_type": "code",
   "execution_count": null,
   "metadata": {},
   "outputs": [],
   "source": [
    "combined.groupby(['user_id'])['reordered'].count().values"
   ]
  },
  {
   "cell_type": "code",
   "execution_count": null,
   "metadata": {},
   "outputs": [],
   "source": [
    "import matplotlib.pyplot as plt\n",
    "plt.hist(combined.groupby(['user_id'])['reordered'].count().values)\n",
    "plt.ylabel(\"Count\")\n",
    "plt.xlabel(\"Total products ordered per user\")\n",
    "plt.yscale(\"log\")\n",
    "plt.show()\n"
   ]
  },
  {
   "cell_type": "code",
   "execution_count": null,
   "metadata": {},
   "outputs": [],
   "source": [
    "import matplotlib.pyplot as plt\n",
    "plt.hist(combined[combined['reordered']==1].groupby(['user_id'])['reordered'].count().values)\n",
    "plt.ylabel(\"Count\")\n",
    "plt.xlabel(\"Total reordered products ordered per user\")\n",
    "plt.yscale(\"log\")\n",
    "plt.show()\n"
   ]
  },
  {
   "cell_type": "code",
   "execution_count": 42,
   "metadata": {},
   "outputs": [
    {
     "data": {
      "image/png": "[encoded data removed]",
      "text/plain": [
       "<Figure size 640x480 with 1 Axes>"
      ]
     },
     "metadata": {},
     "output_type": "display_data"
    }
   ],
   "source": [
    "import matplotlib.pyplot as plt\n",
    "a = combined.groupby(['product_id'])['reordered'].count().values\n",
    "b = a[a<100]\n",
    "plt.hist(b,bins=15)\n",
    "plt.ylabel(\"Count\")\n",
    "plt.xlabel(\"Total orders per product (up to 100)\")\n",
    "plt.yscale(\"log\")\n",
    "plt.show()\n"
   ]
  },
  {
   "cell_type": "code",
   "execution_count": 6,
   "metadata": {},
   "outputs": [
    {
     "data": {
      "image/png": "[encoded data removed]",
      "text/plain": [
       "<Figure size 640x480 with 2 Axes>"
      ]
     },
     "metadata": {},
     "output_type": "display_data"
    }
   ],
   "source": [
    "combined_numeric = combined.drop(['aisle', 'department', 'eval_set', 'product_name'], axis=1)\n",
    "corr = combined_numeric.corr()\n",
    "sns.heatmap(corr)\n",
    "plt.show()"
   ]
  },
  {
   "cell_type": "code",
   "execution_count": 7,
   "metadata": {},
   "outputs": [],
   "source": [
    "def g(df):\n",
    "    corr = df.corr()\n",
    "    corr_triu = corr.where(~np.tril(np.ones(corr.shape)).astype(bool))\n",
    "    corr_triu = corr_triu.stack()\n",
    "    corr_triu.name = 'correlation'\n",
    "    corr_triu.index.names = ['feature_1', 'feature_2']\n",
    "    corr_triu = corr_triu.to_frame()\n",
    "    corr_triu = corr_triu.reset_index()\n",
    "    corr_triu = corr_triu[corr_triu['correlation'].abs() > 0.5]\n",
    "    corr_triu = corr_triu[['feature_1', 'feature_2']]\n",
    "    corr_triu = corr_triu.values.tolist()\n",
    "    return corr_triu"
   ]
  },
  {
   "cell_type": "code",
   "execution_count": 8,
   "metadata": {},
   "outputs": [
    {
     "name": "stdout",
     "output_type": "stream",
     "text": [
      "[['reordered', 'order_number'], ['order_number', 'days_since_prior_order']]\n"
     ]
    }
   ],
   "source": [
    "print(g(corr.copy()))"
   ]
  },
  {
   "cell_type": "code",
   "execution_count": 9,
   "metadata": {},
   "outputs": [
    {
     "name": "stdout",
     "output_type": "stream",
     "text": [
      "0.3036100251785685\n",
      "-0.35863616148114136\n",
      "-0.13353590972543117\n",
      "-0.13470761641079732\n"
     ]
    }
   ],
   "source": [
    "print(corr['reordered']['order_number'])\n",
    "print(corr['order_number']['days_since_prior_order'])\n",
    "print(corr['reordered']['add_to_cart_order'])\n",
    "print(corr['reordered']['days_since_prior_order'])"
   ]
  },
  {
   "cell_type": "code",
   "execution_count": null,
   "metadata": {},
   "outputs": [],
   "source": [
    "print('hello')"
   ]
  }
 ],
 "metadata": {
  "kernelspec": {
   "display_name": "Python 3",
   "language": "python",
   "name": "python3"
  },
  "language_info": {
   "codemirror_mode": {
    "name": "ipython",
    "version": 3
   },
   "file_extension": ".py",
   "mimetype": "text/x-python",
   "name": "python",
   "nbconvert_exporter": "python",
   "pygments_lexer": "ipython3",
   "version": "3.10.6"
  },
  "orig_nbformat": 4
 },
 "nbformat": 4,
 "nbformat_minor": 2
}
