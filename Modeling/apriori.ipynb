{
 "cells": [
  {
   "cell_type": "code",
   "execution_count": 1,
   "metadata": {},
   "outputs": [],
   "source": [
    "import pandas as pd\n",
    "import matplotlib.pyplot as plt\n",
    "import numpy as np\n",
    "\n",
    "order_products_train = pd.concat([pd.read_csv(\"../order_products__train.csv\"),pd.read_csv('../order_products__prior.csv')],axis=0)\n",
    "order_products_train['label'] = 1"
   ]
  },
  {
   "cell_type": "code",
   "execution_count": 2,
   "metadata": {},
   "outputs": [],
   "source": [
    "groups = order_products_train.groupby('order_id').apply(lambda x: x['product_id'].astype(str).tolist())"
   ]
  },
  {
   "cell_type": "code",
   "execution_count": 3,
   "metadata": {},
   "outputs": [
    {
     "data": {
      "text/plain": [
       "array([list(['49302', '11109', '10246', '49683', '43633', '13176', '47209', '22035']),\n",
       "       list(['33120', '28985', '9327', '45918', '30035', '17794', '40141', '1819', '43668']),\n",
       "       list(['33754', '24838', '17704', '21903', '17668', '46667', '17461', '32665']),\n",
       "       ...,\n",
       "       list(['38185', '12218', '32299', '3060', '20539', '35221', '12861']),\n",
       "       list(['17279', '12738', '16797', '43352', '32700', '12023', '47941']),\n",
       "       list(['7854', '45309', '21162', '18176', '35211', '39678', '11352', '4600', '24852', '5020'])],\n",
       "      dtype=object)"
      ]
     },
     "execution_count": 3,
     "metadata": {},
     "output_type": "execute_result"
    }
   ],
   "source": [
    "groups.values"
   ]
  },
  {
   "cell_type": "code",
   "execution_count": 7,
   "metadata": {},
   "outputs": [
    {
     "name": "stdout",
     "output_type": "stream",
     "text": [
      "[{21137} -> {13176}, {13176} -> {21137}, {21903} -> {13176}, {13176} -> {21903}, {27966} -> {13176}, {13176} -> {27966}, {47209} -> {13176}, {13176} -> {47209}, {24852} -> {16797}, {16797} -> {24852}, {21903} -> {21137}, {21137} -> {21903}, {24852} -> {21137}, {21137} -> {24852}, {27966} -> {21137}, {21137} -> {27966}, {47209} -> {21137}, {21137} -> {47209}, {24852} -> {21903}, {21903} -> {24852}, {47209} -> {21903}, {21903} -> {47209}, {28204} -> {24852}, {24852} -> {28204}, {47626} -> {24852}, {24852} -> {47626}, {47766} -> {24852}, {24852} -> {47766}]\n"
     ]
    }
   ],
   "source": [
    "from efficient_apriori import apriori\n",
    "itemsets, rules = apriori(groups, min_support=0.01, min_confidence=.01)\n",
    "print(rules)"
   ]
  },
  {
   "cell_type": "code",
   "execution_count": 15,
   "metadata": {},
   "outputs": [],
   "source": [
    "with open(\"rules.csv\",\"w+\") as f:\n",
    "    for rule in rules:\n",
    "        f.write(str(rule)+\"\\n\")"
   ]
  }
 ],
 "metadata": {
  "kernelspec": {
   "display_name": "Python 3",
   "language": "python",
   "name": "python3"
  },
  "language_info": {
   "codemirror_mode": {
    "name": "ipython",
    "version": 3
   },
   "file_extension": ".py",
   "mimetype": "text/x-python",
   "name": "python",
   "nbconvert_exporter": "python",
   "pygments_lexer": "ipython3",
   "version": "3.10.11"
  }
 },
 "nbformat": 4,
 "nbformat_minor": 2
}
